{
 "cells": [
  {
   "cell_type": "code",
   "execution_count": null,
   "id": "3cc392af-1063-4fe0-919b-37d15475796b",
   "metadata": {},
   "outputs": [],
   "source": [
    "!pip install praw\n",
    "!pip install networkx"
   ]
  },
  {
   "cell_type": "code",
   "execution_count": null,
   "id": "9168d80a-1b69-4068-a7e5-e2c348649ec2",
   "metadata": {},
   "outputs": [],
   "source": [
    "import praw\n",
    "import networkx as nx"
   ]
  },
  {
   "cell_type": "code",
   "execution_count": 13,
   "id": "9a1d48e3-0df7-4db3-9555-66acfc00eab7",
   "metadata": {},
   "outputs": [],
   "source": [
    "reddit = praw.Reddit(\n",
    "    client_id='lKctks71iKcBMSKsJCFoFg',\n",
    "    client_secret='WPsX_4K0yYh0QKMm4jpbXrmYI_ojSg',\n",
    "    user_agent='script:mentalhealth_network_analysis:v1.0 (by u/Accomplished_Elk218)')"
   ]
  },
  {
   "cell_type": "code",
   "execution_count": 14,
   "id": "e3a2b0d2-d6ab-41c8-b854-81c0b1964a73",
   "metadata": {
    "tags": []
   },
   "outputs": [
    {
     "name": "stdout",
     "output_type": "stream",
     "text": [
      "Collecting comments from top 50 posts...\n",
      "\n",
      "=== Collection Complete ===\n",
      "Total comments collected: 687\n",
      "Unique users collected: 500\n",
      "Total nodes in graph: 500\n",
      "Total edges in graph: 468\n",
      "Graph saved as 'reddit_mentalhealth_combined.graphml'\n"
     ]
    }
   ],
   "source": [
    "SUBREDDIT_NAME = \"mentalhealth\"\n",
    "TARGET_COMMENTS = 5000\n",
    "TARGET_USERS = 500\n",
    "TOP_POSTS_LIMIT = 50\n",
    "NEW_POSTS_LIMIT = 50\n",
    "\n",
    "\n",
    "g = nx.DiGraph()\n",
    "unique_users = set()\n",
    "total_comments = 0\n",
    "\n",
    "def process_submission(submission):\n",
    "    global total_comments\n",
    "\n",
    "    submission.comments.replace_more(limit=0)\n",
    "    comment_lookup = {}\n",
    "\n",
    "    # Map submission author (post author)\n",
    "    if submission.author:\n",
    "        comment_lookup[submission.id] = str(submission.author)\n",
    "        unique_users.add(str(submission.author))\n",
    "        g.add_node(str(submission.author))\n",
    "\n",
    "    for comment in submission.comments.list():\n",
    "        if comment.author is None:\n",
    "            continue\n",
    "\n",
    "        author = str(comment.author)\n",
    "        comment_id = comment.id\n",
    "        parent_id = comment.parent_id.split(\"_\")[1]\n",
    "\n",
    "        comment_lookup[comment_id] = author\n",
    "        unique_users.add(author)\n",
    "        g.add_node(author)\n",
    "\n",
    "        parent_author = comment_lookup.get(parent_id)\n",
    "        if parent_author and parent_author != author:\n",
    "            if g.has_edge(author, parent_author):\n",
    "                g[author][parent_author]['weight'] += 1\n",
    "            else:\n",
    "                g.add_edge(author, parent_author, weight=1)\n",
    "\n",
    "        total_comments += 1\n",
    "\n",
    "        # Stop if targets met\n",
    "        if total_comments >= TARGET_COMMENTS or len(unique_users) >= TARGET_USERS:\n",
    "            return True  # Signal to stop\n",
    "\n",
    "    return False\n",
    "\n",
    "subreddit = reddit.subreddit(SUBREDDIT_NAME)\n",
    "\n",
    "print(f\"Collecting comments from top {TOP_POSTS_LIMIT} posts...\")\n",
    "for submission in subreddit.top(limit=TOP_POSTS_LIMIT):\n",
    "    if process_submission(submission):\n",
    "        break\n",
    "\n",
    "if total_comments < TARGET_COMMENTS and len(unique_users) < TARGET_USERS:\n",
    "    print(f\"Collecting comments from newest {NEW_POSTS_LIMIT} posts...\")\n",
    "    for submission in subreddit.new(limit=NEW_POSTS_LIMIT):\n",
    "        if process_submission(submission):\n",
    "            break\n",
    "\n",
    "print(\"\\n=== Collection Complete ===\")\n",
    "print(f\"Total comments collected: {total_comments}\")\n",
    "print(f\"Unique users collected: {len(unique_users)}\")\n",
    "print(f\"Total nodes in graph: {len(g.nodes)}\")\n",
    "print(f\"Total edges in graph: {len(g.edges)}\")\n",
    "\n",
    "# Export graph for Gephi or further analysis\n",
    "nx.write_graphml(g, \"reddit_mentalhealth_combined.graphml\")\n",
    "print(\"Graph saved as 'reddit_mentalhealth_combined.graphml'\")"
   ]
  },
  {
   "cell_type": "code",
   "execution_count": 17,
   "id": "a0089488-f705-413b-86fc-7d1c5a572bd8",
   "metadata": {},
   "outputs": [
    {
     "name": "stdout",
     "output_type": "stream",
     "text": [
      "\n",
      "Top 10 users by degree centrality:\n",
      "runawaylovebug: Degree Centrality = 0.2545\n",
      "WarmlyEccentric: Degree Centrality = 0.2405\n",
      "Alyndriel: Degree Centrality = 0.1283\n",
      "Crafty_n_depressed44: Degree Centrality = 0.1002\n",
      "Emmengard: Degree Centrality = 0.1002\n",
      "starrfishandcoffee: Degree Centrality = 0.0321\n",
      "davethemacguy: Degree Centrality = 0.0160\n",
      "crunchsaffron9: Degree Centrality = 0.0140\n",
      "Aggressive_Chicken63: Degree Centrality = 0.0140\n",
      "CanalAnswer: Degree Centrality = 0.0100\n"
     ]
    }
   ],
   "source": [
    "top_k = 10\n",
    "centrality_degree = nx.degree_centrality(g)\n",
    "\n",
    "print(\"\\nTop 10 users by degree centrality:\")\n",
    "for user in sorted(centrality_degree, key=centrality_degree.get, reverse=True)[:top_k]:\n",
    "    # No 'name' attribute assumed, so print username directly\n",
    "    print(f\"{user}: Degree Centrality = {centrality_degree[user]:.4f}\")"
   ]
  },
  {
   "cell_type": "code",
   "execution_count": 18,
   "id": "0fb6cba5-cf92-489c-b886-0558ed827421",
   "metadata": {},
   "outputs": [
    {
     "name": "stdout",
     "output_type": "stream",
     "text": [
      "\n",
      "Top 10 users by PageRank:\n",
      "WarmlyEccentric: PageRank = 0.1162\n",
      "Crafty_n_depressed44: PageRank = 0.0877\n",
      "runawaylovebug: PageRank = 0.0665\n",
      "Alyndriel: PageRank = 0.0648\n",
      "Emmengard: PageRank = 0.0283\n",
      "crunchsaffron9: PageRank = 0.0236\n",
      "starrfishandcoffee: PageRank = 0.0222\n",
      "Aggressive_Chicken63: PageRank = 0.0132\n",
      "wren75: PageRank = 0.0130\n",
      "LJ1205E: PageRank = 0.0130\n"
     ]
    }
   ],
   "source": [
    "pagerank = nx.pagerank(g, weight='weight')\n",
    "print(\"\\nTop 10 users by PageRank:\")\n",
    "for user in sorted(pagerank, key=pagerank.get, reverse=True)[:top_k]:\n",
    "    print(f\"{user}: PageRank = {pagerank[user]:.4f}\")"
   ]
  },
  {
   "cell_type": "code",
   "execution_count": 20,
   "id": "95b30b81-80ac-4828-b96a-6667c328cb0f",
   "metadata": {},
   "outputs": [
    {
     "name": "stdout",
     "output_type": "stream",
     "text": [
      "\n",
      "Top 10 users by PageRank:\n",
      "Alyndriel: Betweenness = 0.0052\n",
      "Crafty_n_depressed44: Betweenness = 0.0014\n",
      "starrfishandcoffee: Betweenness = 0.0012\n",
      "davethemacguy: Betweenness = 0.0003\n",
      "NerdyKnits: Betweenness = 0.0002\n",
      "crunchsaffron9: Betweenness = 0.0002\n",
      "CrackedOreo666: Betweenness = 0.0001\n",
      "WarmlyEccentric: Betweenness = 0.0000\n",
      "Candle1nTh3Dark: Betweenness = 0.0000\n",
      "sciencelove1994: Betweenness = 0.0000\n"
     ]
    }
   ],
   "source": [
    "btw = nx.betweenness_centrality(g,k=10)\n",
    "print(\"\\nTop 10 users by PageRank:\")\n",
    "for user in sorted(btw, key=btw.get, reverse=True)[:top_k]:\n",
    "        print(f\"{user}: Betweenness = {btw[user]:.4f}\")"
   ]
  },
  {
   "cell_type": "code",
   "execution_count": null,
   "id": "3083af0e-a62a-483c-80fc-f45393ae796f",
   "metadata": {},
   "outputs": [],
   "source": []
  }
 ],
 "metadata": {
  "kernelspec": {
   "display_name": "Python 3 (ipykernel)",
   "language": "python",
   "name": "python3"
  },
  "language_info": {
   "codemirror_mode": {
    "name": "ipython",
    "version": 3
   },
   "file_extension": ".py",
   "mimetype": "text/x-python",
   "name": "python",
   "nbconvert_exporter": "python",
   "pygments_lexer": "ipython3",
   "version": "3.8.10"
  }
 },
 "nbformat": 4,
 "nbformat_minor": 5
}
